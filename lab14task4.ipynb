{
 "cells": [
  {
   "cell_type": "code",
   "execution_count": 1,
   "id": "2a7432e3-dd1b-46c2-be88-2b693299fbd2",
   "metadata": {},
   "outputs": [
    {
     "name": "stdout",
     "output_type": "stream",
     "text": [
      "ID: 1, Name: Ali, Grade: 60\n",
      "ID: 2, Name: Kamran, Grade: 90\n",
      "ID: 3, Name: Sameer, Grade: 80\n",
      "Average Grade: 76.66666666666667\n"
     ]
    }
   ],
   "source": [
    "# Student database\n",
    "student_db = {}\n",
    "\n",
    "# Add a student\n",
    "def add_student(student_id, name, grade):\n",
    "    student_db[student_id] = {\"name\": name, \"grade\": grade}\n",
    "\n",
    "# Display all students\n",
    "def display_students():\n",
    "    for student_id, details in student_db.items():\n",
    "        print(f\"ID: {student_id}, Name: {details['name']}, Grade: {details['grade']}\")\n",
    "\n",
    "# Calculate average grade\n",
    "def get_average_grade():\n",
    "    if not student_db:\n",
    "        return 0\n",
    "    total_grade = sum(details['grade'] for details in student_db.values())\n",
    "    return total_grade / len(student_db)\n",
    "\n",
    "# Example usage\n",
    "add_student(1, \"Ali\", 60)\n",
    "add_student(2, \"Kamran\", 90)\n",
    "add_student(3, \"Sameer\", 80)\n",
    "\n",
    "display_students()\n",
    "print(f\"Average Grade: {get_average_grade()}\")\n"
   ]
  },
  {
   "cell_type": "code",
   "execution_count": null,
   "id": "7b9b4358-8f6f-49bf-98d3-d7a7a4c45b7d",
   "metadata": {},
   "outputs": [],
   "source": []
  }
 ],
 "metadata": {
  "kernelspec": {
   "display_name": "Python 3 (ipykernel)",
   "language": "python",
   "name": "python3"
  },
  "language_info": {
   "codemirror_mode": {
    "name": "ipython",
    "version": 3
   },
   "file_extension": ".py",
   "mimetype": "text/x-python",
   "name": "python",
   "nbconvert_exporter": "python",
   "pygments_lexer": "ipython3",
   "version": "3.12.7"
  }
 },
 "nbformat": 4,
 "nbformat_minor": 5
}
