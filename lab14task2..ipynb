{
 "cells": [
  {
   "cell_type": "code",
   "execution_count": 2,
   "id": "3df9f101-6c2a-45e7-96ac-9eff460ab91f",
   "metadata": {},
   "outputs": [
    {
     "name": "stdout",
     "output_type": "stream",
     "text": [
      "Open List: []\n",
      "Closed List: ['A', 'B', 'C', 'D', 'E', 'F']\n"
     ]
    }
   ],
   "source": [
    "from collections import deque\n",
    "\n",
    "def bfs(graph, start, goal):\n",
    "    open_list = deque([start])\n",
    "    closed_list = []\n",
    "    \n",
    "    while open_list:\n",
    "        current = open_list.popleft()\n",
    "        closed_list.append(current)\n",
    "        \n",
    "        if current == goal:\n",
    "            break\n",
    "        \n",
    "        for neighbor in graph[current]:\n",
    "            if neighbor not in closed_list and neighbor not in open_list:\n",
    "                open_list.append(neighbor)\n",
    "    \n",
    "    return open_list, closed_list\n",
    "\n",
    "# Graph representation\n",
    "graph = {\n",
    "    'A': ['B', 'C'],\n",
    "    'B': ['D', 'E'],\n",
    "    'C': ['F'],\n",
    "    'D': [],\n",
    "    'E': ['F'],\n",
    "    'F': []\n",
    "}\n",
    "\n",
    "# Perform BFS\n",
    "open_list, closed_list = bfs(graph, 'A', 'F')\n",
    "print(\"Open List:\", list(open_list))\n",
    "print(\"Closed List:\", closed_list)\n"
   ]
  },
  {
   "cell_type": "code",
   "execution_count": null,
   "id": "d0b03971-eaee-4139-8603-55215873cec6",
   "metadata": {},
   "outputs": [],
   "source": []
  }
 ],
 "metadata": {
  "kernelspec": {
   "display_name": "Python 3 (ipykernel)",
   "language": "python",
   "name": "python3"
  },
  "language_info": {
   "codemirror_mode": {
    "name": "ipython",
    "version": 3
   },
   "file_extension": ".py",
   "mimetype": "text/x-python",
   "name": "python",
   "nbconvert_exporter": "python",
   "pygments_lexer": "ipython3",
   "version": "3.12.7"
  }
 },
 "nbformat": 4,
 "nbformat_minor": 5
}
