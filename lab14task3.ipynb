{
 "cells": [
  {
   "cell_type": "code",
   "execution_count": 1,
   "id": "a7a7ee4f-2d6d-4b51-ac78-252d37131693",
   "metadata": {},
   "outputs": [
    {
     "name": "stdout",
     "output_type": "stream",
     "text": [
      "Name: Ali, ID: 1, Salary: 50000\n",
      "Name: Bilal, ID: 2, Salary: 60000\n",
      "Total number of employees: 2\n"
     ]
    }
   ],
   "source": [
    "class Employee:\n",
    "    emp_count = 0  # Class variable to track the number of employees\n",
    "\n",
    "    def __init__(self, emp_name, emp_id, salary):\n",
    "        self.emp_name = emp_name\n",
    "        self.emp_id = emp_id\n",
    "        self.salary = salary\n",
    "        Employee.emp_count += 1\n",
    "\n",
    "    @classmethod\n",
    "    def display_count(cls):\n",
    "        print(f\"Total number of employees: {cls.emp_count}\")\n",
    "\n",
    "    def display_employee(self):\n",
    "        print(f\"Name: {self.emp_name}, ID: {self.emp_id}, Salary: {self.salary}\")\n",
    "\n",
    "# Example usage\n",
    "employee1 = Employee(\"Ali\", 1, 50000)\n",
    "employee2 = Employee(\"Bilal\", 2, 60000)\n",
    "\n",
    "employee1.display_employee()\n",
    "employee2.display_employee()\n",
    "Employee.display_count()\n"
   ]
  },
  {
   "cell_type": "code",
   "execution_count": null,
   "id": "33114bcd-4ba1-4ace-9407-cc170117891e",
   "metadata": {},
   "outputs": [],
   "source": []
  }
 ],
 "metadata": {
  "kernelspec": {
   "display_name": "Python 3 (ipykernel)",
   "language": "python",
   "name": "python3"
  },
  "language_info": {
   "codemirror_mode": {
    "name": "ipython",
    "version": 3
   },
   "file_extension": ".py",
   "mimetype": "text/x-python",
   "name": "python",
   "nbconvert_exporter": "python",
   "pygments_lexer": "ipython3",
   "version": "3.12.7"
  }
 },
 "nbformat": 4,
 "nbformat_minor": 5
}
