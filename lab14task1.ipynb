{
 "cells": [
  {
   "cell_type": "code",
   "execution_count": 1,
   "id": "b1c44c32-1cb1-4c4e-8686-40f32f2e95d0",
   "metadata": {},
   "outputs": [
    {
     "name": "stdout",
     "output_type": "stream",
     "text": [
      "Open List: ['C', 'B']\n",
      "Closed List: ['A']\n",
      "Open List: ['C', 'D', 'E']\n",
      "Closed List: ['A', 'B']\n",
      "Open List: ['C', 'D']\n",
      "Closed List: ['A', 'B', 'E']\n",
      "Open List: ['C']\n",
      "Closed List: ['A', 'D', 'B', 'E']\n",
      "Open List: ['F']\n",
      "Closed List: ['C', 'D', 'B', 'E', 'A']\n",
      "Goal 'F' found!\n",
      "DFS Complete!\n"
     ]
    }
   ],
   "source": [
    "def dfs(graph, start, goal):\n",
    "    open_list = [start]\n",
    "    closed_list = set()\n",
    "    \n",
    "    while open_list:\n",
    "        current = open_list.pop()\n",
    "        if current in closed_list:\n",
    "            continue\n",
    "        closed_list.add(current)\n",
    "        \n",
    "        if current == goal:\n",
    "            print(f\"Goal '{goal}' found!\")\n",
    "            break\n",
    "        \n",
    "        open_list.extend(graph[current] - closed_list)\n",
    "        print(f\"Open List: {open_list}\")\n",
    "        print(f\"Closed List: {list(closed_list)}\")\n",
    "    \n",
    "    print(\"DFS Complete!\")\n",
    "\n",
    "graph = {\n",
    "    'A': {'B', 'C'},\n",
    "    'B': {'A', 'D', 'E'},\n",
    "    'C': {'A', 'F'},\n",
    "    'D': {'B'},\n",
    "    'E': {'B'},\n",
    "    'F': {'C'}\n",
    "}\n",
    "\n",
    "dfs(graph, 'A', 'F')\n"
   ]
  },
  {
   "cell_type": "code",
   "execution_count": null,
   "id": "017ec0ed-8fe5-4226-bf7d-c2f0932f5913",
   "metadata": {},
   "outputs": [],
   "source": []
  }
 ],
 "metadata": {
  "kernelspec": {
   "display_name": "Python 3 (ipykernel)",
   "language": "python",
   "name": "python3"
  },
  "language_info": {
   "codemirror_mode": {
    "name": "ipython",
    "version": 3
   },
   "file_extension": ".py",
   "mimetype": "text/x-python",
   "name": "python",
   "nbconvert_exporter": "python",
   "pygments_lexer": "ipython3",
   "version": "3.12.7"
  }
 },
 "nbformat": 4,
 "nbformat_minor": 5
}
